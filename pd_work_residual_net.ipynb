{
  "nbformat": 4,
  "nbformat_minor": 0,
  "metadata": {
    "kernelspec": {
      "name": "python3",
      "display_name": "Python 3",
      "language": "python"
    },
    "language_info": {
      "name": "python",
      "version": "3.7.9",
      "mimetype": "text/x-python",
      "codemirror_mode": {
        "name": "ipython",
        "version": 3
      },
      "pygments_lexer": "ipython3",
      "nbconvert_exporter": "python",
      "file_extension": ".py"
    },
    "colab": {
      "name": "pd-work.ipynb",
      "provenance": [],
      "include_colab_link": true
    }
  },
  "cells": [
    {
      "cell_type": "markdown",
      "metadata": {
        "id": "view-in-github",
        "colab_type": "text"
      },
      "source": [
        "<a href=\"https://colab.research.google.com/github/Arnab9Codes/PD-paper/blob/main/pd_work_residual_net.ipynb\" target=\"_parent\"><img src=\"https://colab.research.google.com/assets/colab-badge.svg\" alt=\"Open In Colab\"/></a>"
      ]
    },
    {
      "cell_type": "markdown",
      "metadata": {
        "id": "RYzJH9OnrurL"
      },
      "source": [
        "\n",
        "pip install -r requirements.txt\n",
        "pip install pipwin\n",
        "pipwin install -r requirements.txt"
      ]
    },
    {
      "cell_type": "code",
      "metadata": {
        "colab": {
          "base_uri": "https://localhost:8080/"
        },
        "id": "vg72QPAqH-xY",
        "outputId": "9be6484c-6535-44d9-81ff-68870c76a159"
      },
      "source": [
        "from google.colab import drive\n",
        "drive.mount('/content/drive')"
      ],
      "execution_count": 1,
      "outputs": [
        {
          "output_type": "stream",
          "text": [
            "Drive already mounted at /content/drive; to attempt to forcibly remount, call drive.mount(\"/content/drive\", force_remount=True).\n"
          ],
          "name": "stdout"
        }
      ]
    },
    {
      "cell_type": "code",
      "metadata": {
        "id": "eu8DgIgururO",
        "trusted": true
      },
      "source": [
        "## Initial Imports\n",
        "\n",
        "%matplotlib inline\n",
        "\n",
        "import pandas as pd \n",
        "import numpy as np \n",
        "import matplotlib.pyplot as plt\n",
        "import seaborn as sns\n",
        "import random\n",
        "from tqdm import tqdm_notebook as tqdm\n",
        "\n",
        "#import lime\n",
        "#import eli5\n",
        "#import mlxtend\n",
        "import warnings\n",
        "warnings.filterwarnings('ignore')"
      ],
      "execution_count": 2,
      "outputs": []
    },
    {
      "cell_type": "markdown",
      "metadata": {
        "id": "_MthW3IaSOkF"
      },
      "source": [
        "**`Read data and Display data dimension`**"
      ]
    },
    {
      "cell_type": "code",
      "metadata": {
        "id": "o4fLLdJVrurY",
        "trusted": true,
        "colab": {
          "base_uri": "https://localhost:8080/"
        },
        "outputId": "d106a39a-75c2-4b13-b6ee-26bef8d40dbf"
      },
      "source": [
        "#pd_speech_features = pd.read_csv('pd_speech_features.csv')\n",
        "pd_speech_features = pd.read_csv('/content/drive/My Drive/Paper work/Speech detection/pd_speech_features.csv')\n",
        "#pd_speech_features = pd.read_csv(os.path.join(dirname,filename))\n",
        "new_header = pd_speech_features.iloc[0] #grab the first row for the header\n",
        "pd_speech_features = pd_speech_features[1:] #take the data less the header row\n",
        "pd_speech_features.columns = new_header #set the header row as the df header\n",
        "pd_speech_features.head()\n",
        "print('The shape of the matrix is :', pd_speech_features.shape)"
      ],
      "execution_count": 3,
      "outputs": [
        {
          "output_type": "stream",
          "text": [
            "The shape of the matrix is : (756, 755)\n"
          ],
          "name": "stdout"
        }
      ]
    },
    {
      "cell_type": "markdown",
      "metadata": {
        "id": "t_36-f_6rurg"
      },
      "source": [
        "#### Gather most general metadata about the data"
      ]
    },
    {
      "cell_type": "code",
      "metadata": {
        "id": "7NIsR5gTrurh",
        "trusted": true,
        "colab": {
          "base_uri": "https://localhost:8080/",
          "height": 307
        },
        "outputId": "f07a4d00-6a68-4394-ce24-2cd01e3a2654"
      },
      "source": [
        "pd_speech_features.info() # Gives type of columns\n",
        "pd_speech_features.describe()"
      ],
      "execution_count": 4,
      "outputs": [
        {
          "output_type": "stream",
          "text": [
            "<class 'pandas.core.frame.DataFrame'>\n",
            "RangeIndex: 756 entries, 1 to 756\n",
            "Columns: 755 entries, id to class\n",
            "dtypes: object(755)\n",
            "memory usage: 4.4+ MB\n"
          ],
          "name": "stdout"
        },
        {
          "output_type": "execute_result",
          "data": {
            "text/html": [
              "<div>\n",
              "<style scoped>\n",
              "    .dataframe tbody tr th:only-of-type {\n",
              "        vertical-align: middle;\n",
              "    }\n",
              "\n",
              "    .dataframe tbody tr th {\n",
              "        vertical-align: top;\n",
              "    }\n",
              "\n",
              "    .dataframe thead th {\n",
              "        text-align: right;\n",
              "    }\n",
              "</style>\n",
              "<table border=\"1\" class=\"dataframe\">\n",
              "  <thead>\n",
              "    <tr style=\"text-align: right;\">\n",
              "      <th></th>\n",
              "      <th>id</th>\n",
              "      <th>gender</th>\n",
              "      <th>PPE</th>\n",
              "      <th>DFA</th>\n",
              "      <th>RPDE</th>\n",
              "      <th>numPulses</th>\n",
              "      <th>numPeriodsPulses</th>\n",
              "      <th>meanPeriodPulses</th>\n",
              "      <th>stdDevPeriodPulses</th>\n",
              "      <th>locPctJitter</th>\n",
              "      <th>locAbsJitter</th>\n",
              "      <th>rapJitter</th>\n",
              "      <th>ppq5Jitter</th>\n",
              "      <th>ddpJitter</th>\n",
              "      <th>locShimmer</th>\n",
              "      <th>locDbShimmer</th>\n",
              "      <th>apq3Shimmer</th>\n",
              "      <th>apq5Shimmer</th>\n",
              "      <th>apq11Shimmer</th>\n",
              "      <th>ddaShimmer</th>\n",
              "      <th>meanAutoCorrHarmonicity</th>\n",
              "      <th>meanNoiseToHarmHarmonicity</th>\n",
              "      <th>meanHarmToNoiseHarmonicity</th>\n",
              "      <th>minIntensity</th>\n",
              "      <th>maxIntensity</th>\n",
              "      <th>meanIntensity</th>\n",
              "      <th>f1</th>\n",
              "      <th>f2</th>\n",
              "      <th>f3</th>\n",
              "      <th>f4</th>\n",
              "      <th>b1</th>\n",
              "      <th>b2</th>\n",
              "      <th>b3</th>\n",
              "      <th>b4</th>\n",
              "      <th>GQ_prc5_95</th>\n",
              "      <th>GQ_std_cycle_open</th>\n",
              "      <th>GQ_std_cycle_closed</th>\n",
              "      <th>GNE_mean</th>\n",
              "      <th>GNE_std</th>\n",
              "      <th>GNE_SNR_TKEO</th>\n",
              "      <th>...</th>\n",
              "      <th>tqwt_skewnessValue_dec_34</th>\n",
              "      <th>tqwt_skewnessValue_dec_35</th>\n",
              "      <th>tqwt_skewnessValue_dec_36</th>\n",
              "      <th>tqwt_kurtosisValue_dec_1</th>\n",
              "      <th>tqwt_kurtosisValue_dec_2</th>\n",
              "      <th>tqwt_kurtosisValue_dec_3</th>\n",
              "      <th>tqwt_kurtosisValue_dec_4</th>\n",
              "      <th>tqwt_kurtosisValue_dec_5</th>\n",
              "      <th>tqwt_kurtosisValue_dec_6</th>\n",
              "      <th>tqwt_kurtosisValue_dec_7</th>\n",
              "      <th>tqwt_kurtosisValue_dec_8</th>\n",
              "      <th>tqwt_kurtosisValue_dec_9</th>\n",
              "      <th>tqwt_kurtosisValue_dec_10</th>\n",
              "      <th>tqwt_kurtosisValue_dec_11</th>\n",
              "      <th>tqwt_kurtosisValue_dec_12</th>\n",
              "      <th>tqwt_kurtosisValue_dec_13</th>\n",
              "      <th>tqwt_kurtosisValue_dec_14</th>\n",
              "      <th>tqwt_kurtosisValue_dec_15</th>\n",
              "      <th>tqwt_kurtosisValue_dec_16</th>\n",
              "      <th>tqwt_kurtosisValue_dec_17</th>\n",
              "      <th>tqwt_kurtosisValue_dec_18</th>\n",
              "      <th>tqwt_kurtosisValue_dec_19</th>\n",
              "      <th>tqwt_kurtosisValue_dec_20</th>\n",
              "      <th>tqwt_kurtosisValue_dec_21</th>\n",
              "      <th>tqwt_kurtosisValue_dec_22</th>\n",
              "      <th>tqwt_kurtosisValue_dec_23</th>\n",
              "      <th>tqwt_kurtosisValue_dec_24</th>\n",
              "      <th>tqwt_kurtosisValue_dec_25</th>\n",
              "      <th>tqwt_kurtosisValue_dec_26</th>\n",
              "      <th>tqwt_kurtosisValue_dec_27</th>\n",
              "      <th>tqwt_kurtosisValue_dec_28</th>\n",
              "      <th>tqwt_kurtosisValue_dec_29</th>\n",
              "      <th>tqwt_kurtosisValue_dec_30</th>\n",
              "      <th>tqwt_kurtosisValue_dec_31</th>\n",
              "      <th>tqwt_kurtosisValue_dec_32</th>\n",
              "      <th>tqwt_kurtosisValue_dec_33</th>\n",
              "      <th>tqwt_kurtosisValue_dec_34</th>\n",
              "      <th>tqwt_kurtosisValue_dec_35</th>\n",
              "      <th>tqwt_kurtosisValue_dec_36</th>\n",
              "      <th>class</th>\n",
              "    </tr>\n",
              "  </thead>\n",
              "  <tbody>\n",
              "    <tr>\n",
              "      <th>count</th>\n",
              "      <td>756</td>\n",
              "      <td>756</td>\n",
              "      <td>756</td>\n",
              "      <td>756</td>\n",
              "      <td>756</td>\n",
              "      <td>756</td>\n",
              "      <td>756</td>\n",
              "      <td>756</td>\n",
              "      <td>756</td>\n",
              "      <td>756</td>\n",
              "      <td>756</td>\n",
              "      <td>756</td>\n",
              "      <td>756</td>\n",
              "      <td>756</td>\n",
              "      <td>756</td>\n",
              "      <td>756</td>\n",
              "      <td>756</td>\n",
              "      <td>756</td>\n",
              "      <td>756</td>\n",
              "      <td>756</td>\n",
              "      <td>756</td>\n",
              "      <td>756</td>\n",
              "      <td>756</td>\n",
              "      <td>756</td>\n",
              "      <td>756</td>\n",
              "      <td>756</td>\n",
              "      <td>756</td>\n",
              "      <td>756</td>\n",
              "      <td>756</td>\n",
              "      <td>756</td>\n",
              "      <td>756</td>\n",
              "      <td>756</td>\n",
              "      <td>756</td>\n",
              "      <td>756</td>\n",
              "      <td>756</td>\n",
              "      <td>756</td>\n",
              "      <td>756</td>\n",
              "      <td>756</td>\n",
              "      <td>756</td>\n",
              "      <td>756</td>\n",
              "      <td>...</td>\n",
              "      <td>756</td>\n",
              "      <td>756</td>\n",
              "      <td>756</td>\n",
              "      <td>756</td>\n",
              "      <td>756</td>\n",
              "      <td>756</td>\n",
              "      <td>756</td>\n",
              "      <td>756</td>\n",
              "      <td>756</td>\n",
              "      <td>756</td>\n",
              "      <td>756</td>\n",
              "      <td>756</td>\n",
              "      <td>756</td>\n",
              "      <td>756</td>\n",
              "      <td>756</td>\n",
              "      <td>756</td>\n",
              "      <td>756</td>\n",
              "      <td>756</td>\n",
              "      <td>756</td>\n",
              "      <td>756</td>\n",
              "      <td>756</td>\n",
              "      <td>756</td>\n",
              "      <td>756</td>\n",
              "      <td>756</td>\n",
              "      <td>756</td>\n",
              "      <td>756</td>\n",
              "      <td>756</td>\n",
              "      <td>756</td>\n",
              "      <td>756</td>\n",
              "      <td>756</td>\n",
              "      <td>756</td>\n",
              "      <td>756</td>\n",
              "      <td>756</td>\n",
              "      <td>756</td>\n",
              "      <td>756</td>\n",
              "      <td>756</td>\n",
              "      <td>756</td>\n",
              "      <td>756</td>\n",
              "      <td>756</td>\n",
              "      <td>756</td>\n",
              "    </tr>\n",
              "    <tr>\n",
              "      <th>unique</th>\n",
              "      <td>252</td>\n",
              "      <td>2</td>\n",
              "      <td>740</td>\n",
              "      <td>745</td>\n",
              "      <td>748</td>\n",
              "      <td>315</td>\n",
              "      <td>319</td>\n",
              "      <td>755</td>\n",
              "      <td>646</td>\n",
              "      <td>358</td>\n",
              "      <td>543</td>\n",
              "      <td>183</td>\n",
              "      <td>244</td>\n",
              "      <td>327</td>\n",
              "      <td>734</td>\n",
              "      <td>547</td>\n",
              "      <td>710</td>\n",
              "      <td>709</td>\n",
              "      <td>722</td>\n",
              "      <td>741</td>\n",
              "      <td>747</td>\n",
              "      <td>748</td>\n",
              "      <td>745</td>\n",
              "      <td>755</td>\n",
              "      <td>755</td>\n",
              "      <td>755</td>\n",
              "      <td>755</td>\n",
              "      <td>755</td>\n",
              "      <td>755</td>\n",
              "      <td>755</td>\n",
              "      <td>755</td>\n",
              "      <td>755</td>\n",
              "      <td>755</td>\n",
              "      <td>754</td>\n",
              "      <td>356</td>\n",
              "      <td>753</td>\n",
              "      <td>380</td>\n",
              "      <td>743</td>\n",
              "      <td>750</td>\n",
              "      <td>735</td>\n",
              "      <td>...</td>\n",
              "      <td>753</td>\n",
              "      <td>754</td>\n",
              "      <td>754</td>\n",
              "      <td>755</td>\n",
              "      <td>754</td>\n",
              "      <td>754</td>\n",
              "      <td>752</td>\n",
              "      <td>754</td>\n",
              "      <td>754</td>\n",
              "      <td>751</td>\n",
              "      <td>752</td>\n",
              "      <td>753</td>\n",
              "      <td>752</td>\n",
              "      <td>754</td>\n",
              "      <td>751</td>\n",
              "      <td>749</td>\n",
              "      <td>741</td>\n",
              "      <td>744</td>\n",
              "      <td>742</td>\n",
              "      <td>742</td>\n",
              "      <td>740</td>\n",
              "      <td>738</td>\n",
              "      <td>746</td>\n",
              "      <td>735</td>\n",
              "      <td>739</td>\n",
              "      <td>732</td>\n",
              "      <td>728</td>\n",
              "      <td>723</td>\n",
              "      <td>735</td>\n",
              "      <td>750</td>\n",
              "      <td>749</td>\n",
              "      <td>755</td>\n",
              "      <td>752</td>\n",
              "      <td>753</td>\n",
              "      <td>749</td>\n",
              "      <td>752</td>\n",
              "      <td>753</td>\n",
              "      <td>753</td>\n",
              "      <td>754</td>\n",
              "      <td>2</td>\n",
              "    </tr>\n",
              "    <tr>\n",
              "      <th>top</th>\n",
              "      <td>148</td>\n",
              "      <td>1</td>\n",
              "      <td>0.82273</td>\n",
              "      <td>0.67512</td>\n",
              "      <td>0.70689</td>\n",
              "      <td>237</td>\n",
              "      <td>236</td>\n",
              "      <td>0.006004477</td>\n",
              "      <td>3.88E-05</td>\n",
              "      <td>0.00076</td>\n",
              "      <td>1.39E-05</td>\n",
              "      <td>0.00012</td>\n",
              "      <td>0.00032</td>\n",
              "      <td>0.00027</td>\n",
              "      <td>0.07295</td>\n",
              "      <td>0.205</td>\n",
              "      <td>0.01005</td>\n",
              "      <td>0.04885</td>\n",
              "      <td>0.055173155</td>\n",
              "      <td>0.07426</td>\n",
              "      <td>0.98593</td>\n",
              "      <td>0.020172</td>\n",
              "      <td>16.515</td>\n",
              "      <td>80.44328048</td>\n",
              "      <td>85.61022901</td>\n",
              "      <td>82.73382546</td>\n",
              "      <td>769.6772481</td>\n",
              "      <td>1279.806544</td>\n",
              "      <td>3107.527459</td>\n",
              "      <td>3738.070756</td>\n",
              "      <td>76.4915472</td>\n",
              "      <td>117.5349021</td>\n",
              "      <td>192.2014234</td>\n",
              "      <td>299.1940012</td>\n",
              "      <td>1</td>\n",
              "      <td>6.9051</td>\n",
              "      <td>0</td>\n",
              "      <td>0.93829</td>\n",
              "      <td>0.19121</td>\n",
              "      <td>0.12487</td>\n",
              "      <td>...</td>\n",
              "      <td>-0.091461</td>\n",
              "      <td>-0.09052</td>\n",
              "      <td>-8.9141</td>\n",
              "      <td>44.7366</td>\n",
              "      <td>3.9502</td>\n",
              "      <td>13.3637</td>\n",
              "      <td>4.1329</td>\n",
              "      <td>11.6205</td>\n",
              "      <td>4.1187</td>\n",
              "      <td>4.7652</td>\n",
              "      <td>3.7508</td>\n",
              "      <td>4.3825</td>\n",
              "      <td>4.5152</td>\n",
              "      <td>11.6165</td>\n",
              "      <td>4.9433</td>\n",
              "      <td>3.2569</td>\n",
              "      <td>3.0151</td>\n",
              "      <td>2.5898</td>\n",
              "      <td>2.2731</td>\n",
              "      <td>2.5715</td>\n",
              "      <td>2.269</td>\n",
              "      <td>2.144</td>\n",
              "      <td>2.2146</td>\n",
              "      <td>1.5932</td>\n",
              "      <td>1.9058</td>\n",
              "      <td>1.9706</td>\n",
              "      <td>2.3105</td>\n",
              "      <td>2.2933</td>\n",
              "      <td>1.6337</td>\n",
              "      <td>2.9622</td>\n",
              "      <td>3.4835</td>\n",
              "      <td>4.0251</td>\n",
              "      <td>2.8454</td>\n",
              "      <td>3.3603</td>\n",
              "      <td>3.2838</td>\n",
              "      <td>3.6458</td>\n",
              "      <td>6.2712</td>\n",
              "      <td>4.6983</td>\n",
              "      <td>10.0693</td>\n",
              "      <td>1</td>\n",
              "    </tr>\n",
              "    <tr>\n",
              "      <th>freq</th>\n",
              "      <td>3</td>\n",
              "      <td>390</td>\n",
              "      <td>3</td>\n",
              "      <td>2</td>\n",
              "      <td>2</td>\n",
              "      <td>9</td>\n",
              "      <td>8</td>\n",
              "      <td>2</td>\n",
              "      <td>3</td>\n",
              "      <td>9</td>\n",
              "      <td>10</td>\n",
              "      <td>24</td>\n",
              "      <td>14</td>\n",
              "      <td>11</td>\n",
              "      <td>2</td>\n",
              "      <td>5</td>\n",
              "      <td>2</td>\n",
              "      <td>2</td>\n",
              "      <td>3</td>\n",
              "      <td>2</td>\n",
              "      <td>2</td>\n",
              "      <td>2</td>\n",
              "      <td>2</td>\n",
              "      <td>2</td>\n",
              "      <td>2</td>\n",
              "      <td>2</td>\n",
              "      <td>2</td>\n",
              "      <td>2</td>\n",
              "      <td>2</td>\n",
              "      <td>2</td>\n",
              "      <td>2</td>\n",
              "      <td>2</td>\n",
              "      <td>2</td>\n",
              "      <td>2</td>\n",
              "      <td>385</td>\n",
              "      <td>2</td>\n",
              "      <td>377</td>\n",
              "      <td>2</td>\n",
              "      <td>2</td>\n",
              "      <td>2</td>\n",
              "      <td>...</td>\n",
              "      <td>2</td>\n",
              "      <td>2</td>\n",
              "      <td>2</td>\n",
              "      <td>2</td>\n",
              "      <td>2</td>\n",
              "      <td>2</td>\n",
              "      <td>2</td>\n",
              "      <td>2</td>\n",
              "      <td>2</td>\n",
              "      <td>2</td>\n",
              "      <td>2</td>\n",
              "      <td>2</td>\n",
              "      <td>2</td>\n",
              "      <td>2</td>\n",
              "      <td>2</td>\n",
              "      <td>2</td>\n",
              "      <td>2</td>\n",
              "      <td>2</td>\n",
              "      <td>2</td>\n",
              "      <td>2</td>\n",
              "      <td>2</td>\n",
              "      <td>2</td>\n",
              "      <td>2</td>\n",
              "      <td>3</td>\n",
              "      <td>2</td>\n",
              "      <td>3</td>\n",
              "      <td>3</td>\n",
              "      <td>2</td>\n",
              "      <td>3</td>\n",
              "      <td>2</td>\n",
              "      <td>2</td>\n",
              "      <td>2</td>\n",
              "      <td>2</td>\n",
              "      <td>2</td>\n",
              "      <td>2</td>\n",
              "      <td>2</td>\n",
              "      <td>2</td>\n",
              "      <td>2</td>\n",
              "      <td>2</td>\n",
              "      <td>564</td>\n",
              "    </tr>\n",
              "  </tbody>\n",
              "</table>\n",
              "<p>4 rows × 755 columns</p>\n",
              "</div>"
            ],
            "text/plain": [
              "0        id gender  ... tqwt_kurtosisValue_dec_36 class\n",
              "count   756    756  ...                       756   756\n",
              "unique  252      2  ...                       754     2\n",
              "top     148      1  ...                   10.0693     1\n",
              "freq      3    390  ...                         2   564\n",
              "\n",
              "[4 rows x 755 columns]"
            ]
          },
          "metadata": {
            "tags": []
          },
          "execution_count": 4
        }
      ]
    },
    {
      "cell_type": "code",
      "metadata": {
        "id": "a9FvWGzGrurv",
        "trusted": true,
        "colab": {
          "base_uri": "https://localhost:8080/",
          "height": 142
        },
        "outputId": "916fd663-6494-4221-9bc9-ef5d3d7bd041"
      },
      "source": [
        "pd_speech_features['patient/healthy count'] = 1\n",
        "pd_speech_features.groupby('class').sum()/3"
      ],
      "execution_count": 5,
      "outputs": [
        {
          "output_type": "execute_result",
          "data": {
            "text/html": [
              "<div>\n",
              "<style scoped>\n",
              "    .dataframe tbody tr th:only-of-type {\n",
              "        vertical-align: middle;\n",
              "    }\n",
              "\n",
              "    .dataframe tbody tr th {\n",
              "        vertical-align: top;\n",
              "    }\n",
              "\n",
              "    .dataframe thead th {\n",
              "        text-align: right;\n",
              "    }\n",
              "</style>\n",
              "<table border=\"1\" class=\"dataframe\">\n",
              "  <thead>\n",
              "    <tr style=\"text-align: right;\">\n",
              "      <th></th>\n",
              "      <th>patient/healthy count</th>\n",
              "    </tr>\n",
              "    <tr>\n",
              "      <th>class</th>\n",
              "      <th></th>\n",
              "    </tr>\n",
              "  </thead>\n",
              "  <tbody>\n",
              "    <tr>\n",
              "      <th>0</th>\n",
              "      <td>64.0</td>\n",
              "    </tr>\n",
              "    <tr>\n",
              "      <th>1</th>\n",
              "      <td>188.0</td>\n",
              "    </tr>\n",
              "  </tbody>\n",
              "</table>\n",
              "</div>"
            ],
            "text/plain": [
              "0      patient/healthy count\n",
              "class                       \n",
              "0                       64.0\n",
              "1                      188.0"
            ]
          },
          "metadata": {
            "tags": []
          },
          "execution_count": 5
        }
      ]
    },
    {
      "cell_type": "code",
      "metadata": {
        "id": "L8ppw8fnrur1",
        "trusted": true
      },
      "source": [
        "pd_speech_features = pd_speech_features.drop(['patient/healthy count'], axis = 1)  #756x755"
      ],
      "execution_count": 6,
      "outputs": []
    },
    {
      "cell_type": "markdown",
      "metadata": {
        "id": "YgqnsxXNrur3"
      },
      "source": [
        "All the data was imported in the object type, we now need to take care about the types in the dataframe"
      ]
    },
    {
      "cell_type": "code",
      "metadata": {
        "id": "BY5oJXz9rur4",
        "trusted": true,
        "colab": {
          "base_uri": "https://localhost:8080/"
        },
        "outputId": "04925d17-d1cb-4481-8220-228c3b47ea70"
      },
      "source": [
        "pd_speech_features =  pd_speech_features.astype(float) #per default all floats \n",
        "pd_speech_features[['id', 'numPulses', 'numPeriodsPulses']] = pd_speech_features[['id', 'numPulses', 'numPeriodsPulses']].astype(int) #ints\n",
        "pd_speech_features[['gender', 'class']] = pd_speech_features[['gender', 'class']].astype('category') #categoricals\n",
        "pd_speech_features.dtypes"
      ],
      "execution_count": 7,
      "outputs": [
        {
          "output_type": "execute_result",
          "data": {
            "text/plain": [
              "0\n",
              "id                              int64\n",
              "gender                       category\n",
              "PPE                           float64\n",
              "DFA                           float64\n",
              "RPDE                          float64\n",
              "                               ...   \n",
              "tqwt_kurtosisValue_dec_33     float64\n",
              "tqwt_kurtosisValue_dec_34     float64\n",
              "tqwt_kurtosisValue_dec_35     float64\n",
              "tqwt_kurtosisValue_dec_36     float64\n",
              "class                        category\n",
              "Length: 755, dtype: object"
            ]
          },
          "metadata": {
            "tags": []
          },
          "execution_count": 7
        }
      ]
    },
    {
      "cell_type": "code",
      "metadata": {
        "id": "xdF-H2yerur6",
        "trusted": true,
        "colab": {
          "base_uri": "https://localhost:8080/",
          "height": 283
        },
        "outputId": "b6144eaa-67ed-4d52-9842-13926b750fe2"
      },
      "source": [
        "corr = pd_speech_features.corr() \n",
        "\n",
        "#too many variable to plot correlation matrix \n",
        "sns.heatmap(np.abs(corr), \n",
        "        xticklabels=[],\n",
        "        yticklabels=[])"
      ],
      "execution_count": 8,
      "outputs": [
        {
          "output_type": "execute_result",
          "data": {
            "text/plain": [
              "<matplotlib.axes._subplots.AxesSubplot at 0x7fa3962ac9d0>"
            ]
          },
          "metadata": {
            "tags": []
          },
          "execution_count": 8
        },
        {
          "output_type": "display_data",
          "data": {
            "image/png": "[encoded data removed]",
            "text/plain": [
              "<Figure size 432x288 with 2 Axes>"
            ]
          },
          "metadata": {
            "tags": [],
            "needs_background": "light"
          }
        }
      ]
    },
    {
      "cell_type": "markdown",
      "metadata": {
        "id": "1jshN04Drur9"
      },
      "source": [
        "## Remove some corelated features \n",
        "In the paper it is suggested to remove the TQWT features "
      ]
    },
    {
      "cell_type": "code",
      "metadata": {
        "id": "WBwpHHK3rur9",
        "trusted": true,
        "colab": {
          "base_uri": "https://localhost:8080/",
          "height": 253
        },
        "outputId": "2135daeb-85d6-4b99-e06e-bf471a3addc4"
      },
      "source": [
        "pd_speech_features_no_tqwt = pd_speech_features[pd_speech_features.columns[1: -433]]\n",
        "pd_speech_features_no_tqwt.head()"
      ],
      "execution_count": 9,
      "outputs": [
        {
          "output_type": "execute_result",
          "data": {
            "text/html": [
              "<div>\n",
              "<style scoped>\n",
              "    .dataframe tbody tr th:only-of-type {\n",
              "        vertical-align: middle;\n",
              "    }\n",
              "\n",
              "    .dataframe tbody tr th {\n",
              "        vertical-align: top;\n",
              "    }\n",
              "\n",
              "    .dataframe thead th {\n",
              "        text-align: right;\n",
              "    }\n",
              "</style>\n",
              "<table border=\"1\" class=\"dataframe\">\n",
              "  <thead>\n",
              "    <tr style=\"text-align: right;\">\n",
              "      <th></th>\n",
              "      <th>gender</th>\n",
              "      <th>PPE</th>\n",
              "      <th>DFA</th>\n",
              "      <th>RPDE</th>\n",
              "      <th>numPulses</th>\n",
              "      <th>numPeriodsPulses</th>\n",
              "      <th>meanPeriodPulses</th>\n",
              "      <th>stdDevPeriodPulses</th>\n",
              "      <th>locPctJitter</th>\n",
              "      <th>locAbsJitter</th>\n",
              "      <th>rapJitter</th>\n",
              "      <th>ppq5Jitter</th>\n",
              "      <th>ddpJitter</th>\n",
              "      <th>locShimmer</th>\n",
              "      <th>locDbShimmer</th>\n",
              "      <th>apq3Shimmer</th>\n",
              "      <th>apq5Shimmer</th>\n",
              "      <th>apq11Shimmer</th>\n",
              "      <th>ddaShimmer</th>\n",
              "      <th>meanAutoCorrHarmonicity</th>\n",
              "      <th>meanNoiseToHarmHarmonicity</th>\n",
              "      <th>meanHarmToNoiseHarmonicity</th>\n",
              "      <th>minIntensity</th>\n",
              "      <th>maxIntensity</th>\n",
              "      <th>meanIntensity</th>\n",
              "      <th>f1</th>\n",
              "      <th>f2</th>\n",
              "      <th>f3</th>\n",
              "      <th>f4</th>\n",
              "      <th>b1</th>\n",
              "      <th>b2</th>\n",
              "      <th>b3</th>\n",
              "      <th>b4</th>\n",
              "      <th>GQ_prc5_95</th>\n",
              "      <th>GQ_std_cycle_open</th>\n",
              "      <th>GQ_std_cycle_closed</th>\n",
              "      <th>GNE_mean</th>\n",
              "      <th>GNE_std</th>\n",
              "      <th>GNE_SNR_TKEO</th>\n",
              "      <th>GNE_SNR_SEO</th>\n",
              "      <th>...</th>\n",
              "      <th>app_LT_entropy_shannon_1_coef</th>\n",
              "      <th>app_LT_entropy_shannon_2_coef</th>\n",
              "      <th>app_LT_entropy_shannon_3_coef</th>\n",
              "      <th>app_LT_entropy_shannon_4_coef</th>\n",
              "      <th>app_LT_entropy_shannon_5_coef</th>\n",
              "      <th>app_LT_entropy_shannon_6_coef</th>\n",
              "      <th>app_LT_entropy_shannon_7_coef</th>\n",
              "      <th>app_LT_entropy_shannon_8_coef</th>\n",
              "      <th>app_LT_entropy_shannon_9_coef</th>\n",
              "      <th>app_LT_entropy_shannon_10_coef</th>\n",
              "      <th>app_LT_entropy_log_1_coef</th>\n",
              "      <th>app_LT_entropy_log_2_coef</th>\n",
              "      <th>app_LT_entropy_log_3_coef</th>\n",
              "      <th>app_LT_entropy_log_4_coef</th>\n",
              "      <th>app_LT_entropy_log_5_coef</th>\n",
              "      <th>app_LT_entropy_log_6_coef</th>\n",
              "      <th>app_LT_entropy_log_7_coef</th>\n",
              "      <th>app_LT_entropy_log_8_coef</th>\n",
              "      <th>app_LT_entropy_log_9_coef</th>\n",
              "      <th>app_LT_entropy_log_10_coef</th>\n",
              "      <th>app_LT_TKEO_mean_1_coef</th>\n",
              "      <th>app_LT_TKEO_mean_2_coef</th>\n",
              "      <th>app_LT_TKEO_mean_3_coef</th>\n",
              "      <th>app_LT_TKEO_mean_4_coef</th>\n",
              "      <th>app_LT_TKEO_mean_5_coef</th>\n",
              "      <th>app_LT_TKEO_mean_6_coef</th>\n",
              "      <th>app_LT_TKEO_mean_7_coef</th>\n",
              "      <th>app_LT_TKEO_mean_8_coef</th>\n",
              "      <th>app_LT_TKEO_mean_9_coef</th>\n",
              "      <th>app_LT_TKEO_mean_10_coef</th>\n",
              "      <th>app_LT_TKEO_std_1_coef</th>\n",
              "      <th>app_LT_TKEO_std_2_coef</th>\n",
              "      <th>app_LT_TKEO_std_3_coef</th>\n",
              "      <th>app_LT_TKEO_std_4_coef</th>\n",
              "      <th>app_LT_TKEO_std_5_coef</th>\n",
              "      <th>app_LT_TKEO_std_6_coef</th>\n",
              "      <th>app_LT_TKEO_std_7_coef</th>\n",
              "      <th>app_LT_TKEO_std_8_coef</th>\n",
              "      <th>app_LT_TKEO_std_9_coef</th>\n",
              "      <th>app_LT_TKEO_std_10_coef</th>\n",
              "    </tr>\n",
              "  </thead>\n",
              "  <tbody>\n",
              "    <tr>\n",
              "      <th>1</th>\n",
              "      <td>1.0</td>\n",
              "      <td>0.85247</td>\n",
              "      <td>0.71826</td>\n",
              "      <td>0.57227</td>\n",
              "      <td>240</td>\n",
              "      <td>239</td>\n",
              "      <td>0.008064</td>\n",
              "      <td>0.000087</td>\n",
              "      <td>0.00218</td>\n",
              "      <td>0.000018</td>\n",
              "      <td>0.00067</td>\n",
              "      <td>0.00129</td>\n",
              "      <td>0.00200</td>\n",
              "      <td>0.05883</td>\n",
              "      <td>0.517</td>\n",
              "      <td>0.03011</td>\n",
              "      <td>0.03496</td>\n",
              "      <td>0.04828</td>\n",
              "      <td>0.09034</td>\n",
              "      <td>0.970805</td>\n",
              "      <td>0.036223</td>\n",
              "      <td>18.995</td>\n",
              "      <td>69.997496</td>\n",
              "      <td>76.088046</td>\n",
              "      <td>72.465512</td>\n",
              "      <td>539.342735</td>\n",
              "      <td>1031.849040</td>\n",
              "      <td>2447.162183</td>\n",
              "      <td>3655.054806</td>\n",
              "      <td>101.092218</td>\n",
              "      <td>83.147440</td>\n",
              "      <td>255.214830</td>\n",
              "      <td>396.643631</td>\n",
              "      <td>0.77778</td>\n",
              "      <td>11.7245</td>\n",
              "      <td>2.8277</td>\n",
              "      <td>1.17300</td>\n",
              "      <td>0.26512</td>\n",
              "      <td>0.083127</td>\n",
              "      <td>1200445.612</td>\n",
              "      <td>...</td>\n",
              "      <td>-19278.0371</td>\n",
              "      <td>-25711.8622</td>\n",
              "      <td>-36938.1370</td>\n",
              "      <td>-57264.6625</td>\n",
              "      <td>-98433.1856</td>\n",
              "      <td>-184901.7535</td>\n",
              "      <td>-381059.3510</td>\n",
              "      <td>-776445.2329</td>\n",
              "      <td>-1676725.978</td>\n",
              "      <td>-3601122.613</td>\n",
              "      <td>414.6434</td>\n",
              "      <td>276.4850</td>\n",
              "      <td>198.5803</td>\n",
              "      <td>153.8978</td>\n",
              "      <td>132.2489</td>\n",
              "      <td>124.1971</td>\n",
              "      <td>127.9812</td>\n",
              "      <td>130.3804</td>\n",
              "      <td>140.7776</td>\n",
              "      <td>151.1748</td>\n",
              "      <td>0.86121</td>\n",
              "      <td>3.0487</td>\n",
              "      <td>9.7825</td>\n",
              "      <td>28.5949</td>\n",
              "      <td>74.3411</td>\n",
              "      <td>174.9214</td>\n",
              "      <td>371.7296</td>\n",
              "      <td>793.0680</td>\n",
              "      <td>1586.1824</td>\n",
              "      <td>3173.0448</td>\n",
              "      <td>6.2990</td>\n",
              "      <td>16.7003</td>\n",
              "      <td>42.0762</td>\n",
              "      <td>101.0889</td>\n",
              "      <td>228.8489</td>\n",
              "      <td>493.8563</td>\n",
              "      <td>1015.7707</td>\n",
              "      <td>2091.9460</td>\n",
              "      <td>4188.2456</td>\n",
              "      <td>8373.9278</td>\n",
              "    </tr>\n",
              "    <tr>\n",
              "      <th>2</th>\n",
              "      <td>1.0</td>\n",
              "      <td>0.76686</td>\n",
              "      <td>0.69481</td>\n",
              "      <td>0.53966</td>\n",
              "      <td>234</td>\n",
              "      <td>233</td>\n",
              "      <td>0.008258</td>\n",
              "      <td>0.000073</td>\n",
              "      <td>0.00195</td>\n",
              "      <td>0.000016</td>\n",
              "      <td>0.00052</td>\n",
              "      <td>0.00112</td>\n",
              "      <td>0.00157</td>\n",
              "      <td>0.05516</td>\n",
              "      <td>0.502</td>\n",
              "      <td>0.02320</td>\n",
              "      <td>0.03675</td>\n",
              "      <td>0.06195</td>\n",
              "      <td>0.06961</td>\n",
              "      <td>0.984322</td>\n",
              "      <td>0.017974</td>\n",
              "      <td>21.497</td>\n",
              "      <td>67.415903</td>\n",
              "      <td>73.046374</td>\n",
              "      <td>71.528945</td>\n",
              "      <td>564.363615</td>\n",
              "      <td>1016.367294</td>\n",
              "      <td>2383.565201</td>\n",
              "      <td>3498.681572</td>\n",
              "      <td>58.465428</td>\n",
              "      <td>86.487292</td>\n",
              "      <td>248.357127</td>\n",
              "      <td>218.229722</td>\n",
              "      <td>0.81250</td>\n",
              "      <td>13.8284</td>\n",
              "      <td>2.8908</td>\n",
              "      <td>1.02210</td>\n",
              "      <td>0.22004</td>\n",
              "      <td>0.127410</td>\n",
              "      <td>1298455.445</td>\n",
              "      <td>...</td>\n",
              "      <td>-19028.6532</td>\n",
              "      <td>-25392.0069</td>\n",
              "      <td>-36496.8101</td>\n",
              "      <td>-56599.2563</td>\n",
              "      <td>-97324.8830</td>\n",
              "      <td>-182880.5032</td>\n",
              "      <td>-376979.9939</td>\n",
              "      <td>-768230.2335</td>\n",
              "      <td>-1659120.382</td>\n",
              "      <td>-3563560.603</td>\n",
              "      <td>413.5284</td>\n",
              "      <td>275.8597</td>\n",
              "      <td>198.1971</td>\n",
              "      <td>153.6379</td>\n",
              "      <td>132.0522</td>\n",
              "      <td>124.0327</td>\n",
              "      <td>127.8282</td>\n",
              "      <td>130.2373</td>\n",
              "      <td>140.6345</td>\n",
              "      <td>151.0317</td>\n",
              "      <td>0.85289</td>\n",
              "      <td>3.0213</td>\n",
              "      <td>9.6956</td>\n",
              "      <td>28.3506</td>\n",
              "      <td>73.7185</td>\n",
              "      <td>173.4666</td>\n",
              "      <td>368.5705</td>\n",
              "      <td>786.0763</td>\n",
              "      <td>1572.1837</td>\n",
              "      <td>3144.4525</td>\n",
              "      <td>6.2381</td>\n",
              "      <td>16.5376</td>\n",
              "      <td>41.7306</td>\n",
              "      <td>100.0918</td>\n",
              "      <td>226.9019</td>\n",
              "      <td>489.9169</td>\n",
              "      <td>1006.3702</td>\n",
              "      <td>2074.4541</td>\n",
              "      <td>4148.9889</td>\n",
              "      <td>8298.1606</td>\n",
              "    </tr>\n",
              "    <tr>\n",
              "      <th>3</th>\n",
              "      <td>1.0</td>\n",
              "      <td>0.85083</td>\n",
              "      <td>0.67604</td>\n",
              "      <td>0.58982</td>\n",
              "      <td>232</td>\n",
              "      <td>231</td>\n",
              "      <td>0.008340</td>\n",
              "      <td>0.000060</td>\n",
              "      <td>0.00176</td>\n",
              "      <td>0.000015</td>\n",
              "      <td>0.00057</td>\n",
              "      <td>0.00111</td>\n",
              "      <td>0.00171</td>\n",
              "      <td>0.09902</td>\n",
              "      <td>0.897</td>\n",
              "      <td>0.05094</td>\n",
              "      <td>0.06497</td>\n",
              "      <td>0.07772</td>\n",
              "      <td>0.15282</td>\n",
              "      <td>0.974846</td>\n",
              "      <td>0.026313</td>\n",
              "      <td>17.651</td>\n",
              "      <td>62.661706</td>\n",
              "      <td>71.633549</td>\n",
              "      <td>68.086583</td>\n",
              "      <td>548.444604</td>\n",
              "      <td>1032.406341</td>\n",
              "      <td>2357.826954</td>\n",
              "      <td>3678.128717</td>\n",
              "      <td>160.387771</td>\n",
              "      <td>54.685168</td>\n",
              "      <td>151.694847</td>\n",
              "      <td>84.240339</td>\n",
              "      <td>0.81818</td>\n",
              "      <td>26.9273</td>\n",
              "      <td>2.6975</td>\n",
              "      <td>0.84951</td>\n",
              "      <td>0.15756</td>\n",
              "      <td>0.116890</td>\n",
              "      <td>1272869.841</td>\n",
              "      <td>...</td>\n",
              "      <td>-18926.4578</td>\n",
              "      <td>-25253.6144</td>\n",
              "      <td>-36288.7542</td>\n",
              "      <td>-56258.4752</td>\n",
              "      <td>-96708.1119</td>\n",
              "      <td>-181663.4768</td>\n",
              "      <td>-374463.8517</td>\n",
              "      <td>-763056.6385</td>\n",
              "      <td>-1648032.246</td>\n",
              "      <td>-3539902.400</td>\n",
              "      <td>413.0675</td>\n",
              "      <td>275.5868</td>\n",
              "      <td>198.0149</td>\n",
              "      <td>153.5036</td>\n",
              "      <td>131.9418</td>\n",
              "      <td>123.9329</td>\n",
              "      <td>127.7329</td>\n",
              "      <td>130.1464</td>\n",
              "      <td>140.5436</td>\n",
              "      <td>150.9408</td>\n",
              "      <td>0.84977</td>\n",
              "      <td>3.0062</td>\n",
              "      <td>9.6470</td>\n",
              "      <td>28.2014</td>\n",
              "      <td>73.3297</td>\n",
              "      <td>172.5204</td>\n",
              "      <td>366.5936</td>\n",
              "      <td>782.0604</td>\n",
              "      <td>1564.1081</td>\n",
              "      <td>3128.0295</td>\n",
              "      <td>6.2163</td>\n",
              "      <td>16.4817</td>\n",
              "      <td>41.4869</td>\n",
              "      <td>99.6154</td>\n",
              "      <td>225.7803</td>\n",
              "      <td>486.9865</td>\n",
              "      <td>1001.7348</td>\n",
              "      <td>2064.1067</td>\n",
              "      <td>4127.0967</td>\n",
              "      <td>8254.7868</td>\n",
              "    </tr>\n",
              "    <tr>\n",
              "      <th>4</th>\n",
              "      <td>0.0</td>\n",
              "      <td>0.41121</td>\n",
              "      <td>0.79672</td>\n",
              "      <td>0.59257</td>\n",
              "      <td>178</td>\n",
              "      <td>177</td>\n",
              "      <td>0.010858</td>\n",
              "      <td>0.000183</td>\n",
              "      <td>0.00419</td>\n",
              "      <td>0.000046</td>\n",
              "      <td>0.00149</td>\n",
              "      <td>0.00268</td>\n",
              "      <td>0.00446</td>\n",
              "      <td>0.05451</td>\n",
              "      <td>0.527</td>\n",
              "      <td>0.02395</td>\n",
              "      <td>0.02857</td>\n",
              "      <td>0.04462</td>\n",
              "      <td>0.07185</td>\n",
              "      <td>0.968343</td>\n",
              "      <td>0.042003</td>\n",
              "      <td>19.865</td>\n",
              "      <td>76.306989</td>\n",
              "      <td>81.000749</td>\n",
              "      <td>79.190593</td>\n",
              "      <td>819.529588</td>\n",
              "      <td>1201.813897</td>\n",
              "      <td>3154.035654</td>\n",
              "      <td>4122.163933</td>\n",
              "      <td>238.667052</td>\n",
              "      <td>191.984916</td>\n",
              "      <td>573.752909</td>\n",
              "      <td>526.147599</td>\n",
              "      <td>0.98548</td>\n",
              "      <td>139.5744</td>\n",
              "      <td>1.6961</td>\n",
              "      <td>0.83405</td>\n",
              "      <td>0.17295</td>\n",
              "      <td>0.147370</td>\n",
              "      <td>1932289.206</td>\n",
              "      <td>...</td>\n",
              "      <td>-19352.0891</td>\n",
              "      <td>-25452.5218</td>\n",
              "      <td>-35824.8476</td>\n",
              "      <td>-54370.9290</td>\n",
              "      <td>-91686.1704</td>\n",
              "      <td>-169639.1274</td>\n",
              "      <td>-347128.0292</td>\n",
              "      <td>-704471.7514</td>\n",
              "      <td>-1522358.498</td>\n",
              "      <td>-3271399.011</td>\n",
              "      <td>413.6380</td>\n",
              "      <td>275.3259</td>\n",
              "      <td>197.2795</td>\n",
              "      <td>152.5940</td>\n",
              "      <td>130.9480</td>\n",
              "      <td>122.8786</td>\n",
              "      <td>126.6411</td>\n",
              "      <td>129.0689</td>\n",
              "      <td>139.4666</td>\n",
              "      <td>149.8649</td>\n",
              "      <td>0.88367</td>\n",
              "      <td>2.9398</td>\n",
              "      <td>9.0446</td>\n",
              "      <td>26.2220</td>\n",
              "      <td>67.4885</td>\n",
              "      <td>158.1634</td>\n",
              "      <td>336.9109</td>\n",
              "      <td>724.9443</td>\n",
              "      <td>1448.7625</td>\n",
              "      <td>2913.3877</td>\n",
              "      <td>6.7833</td>\n",
              "      <td>16.8216</td>\n",
              "      <td>41.3157</td>\n",
              "      <td>94.4579</td>\n",
              "      <td>211.1565</td>\n",
              "      <td>443.3447</td>\n",
              "      <td>955.8128</td>\n",
              "      <td>1890.1299</td>\n",
              "      <td>3910.7029</td>\n",
              "      <td>7698.9389</td>\n",
              "    </tr>\n",
              "    <tr>\n",
              "      <th>5</th>\n",
              "      <td>0.0</td>\n",
              "      <td>0.32790</td>\n",
              "      <td>0.79782</td>\n",
              "      <td>0.53028</td>\n",
              "      <td>236</td>\n",
              "      <td>235</td>\n",
              "      <td>0.008162</td>\n",
              "      <td>0.002669</td>\n",
              "      <td>0.00535</td>\n",
              "      <td>0.000044</td>\n",
              "      <td>0.00166</td>\n",
              "      <td>0.00227</td>\n",
              "      <td>0.00499</td>\n",
              "      <td>0.05610</td>\n",
              "      <td>0.497</td>\n",
              "      <td>0.02909</td>\n",
              "      <td>0.03327</td>\n",
              "      <td>0.05278</td>\n",
              "      <td>0.08728</td>\n",
              "      <td>0.975754</td>\n",
              "      <td>0.027139</td>\n",
              "      <td>19.557</td>\n",
              "      <td>76.645686</td>\n",
              "      <td>80.937258</td>\n",
              "      <td>79.183495</td>\n",
              "      <td>846.796144</td>\n",
              "      <td>1215.346469</td>\n",
              "      <td>3201.513132</td>\n",
              "      <td>4085.456839</td>\n",
              "      <td>402.216738</td>\n",
              "      <td>210.061394</td>\n",
              "      <td>203.637106</td>\n",
              "      <td>384.611697</td>\n",
              "      <td>0.97847</td>\n",
              "      <td>102.0549</td>\n",
              "      <td>15.4045</td>\n",
              "      <td>0.83556</td>\n",
              "      <td>0.16210</td>\n",
              "      <td>0.151990</td>\n",
              "      <td>1861807.802</td>\n",
              "      <td>...</td>\n",
              "      <td>-21066.0878</td>\n",
              "      <td>-27472.1915</td>\n",
              "      <td>-38399.3353</td>\n",
              "      <td>-57514.4436</td>\n",
              "      <td>-95740.4317</td>\n",
              "      <td>-176007.1589</td>\n",
              "      <td>-359900.4024</td>\n",
              "      <td>-725678.1466</td>\n",
              "      <td>-1567705.131</td>\n",
              "      <td>-3367165.736</td>\n",
              "      <td>421.1396</td>\n",
              "      <td>279.1703</td>\n",
              "      <td>199.4350</td>\n",
              "      <td>153.7788</td>\n",
              "      <td>131.6258</td>\n",
              "      <td>123.3566</td>\n",
              "      <td>127.0837</td>\n",
              "      <td>129.4029</td>\n",
              "      <td>139.8011</td>\n",
              "      <td>150.2018</td>\n",
              "      <td>0.94619</td>\n",
              "      <td>3.2838</td>\n",
              "      <td>10.5898</td>\n",
              "      <td>30.3224</td>\n",
              "      <td>78.2530</td>\n",
              "      <td>182.9658</td>\n",
              "      <td>390.1740</td>\n",
              "      <td>827.9359</td>\n",
              "      <td>1653.5676</td>\n",
              "      <td>3265.5292</td>\n",
              "      <td>6.9366</td>\n",
              "      <td>18.3595</td>\n",
              "      <td>46.2704</td>\n",
              "      <td>108.6792</td>\n",
              "      <td>244.0607</td>\n",
              "      <td>541.2414</td>\n",
              "      <td>1057.2566</td>\n",
              "      <td>2242.5460</td>\n",
              "      <td>4297.4639</td>\n",
              "      <td>8645.2845</td>\n",
              "    </tr>\n",
              "  </tbody>\n",
              "</table>\n",
              "<p>5 rows × 321 columns</p>\n",
              "</div>"
            ],
            "text/plain": [
              "0 gender      PPE  ...  app_LT_TKEO_std_9_coef  app_LT_TKEO_std_10_coef\n",
              "1    1.0  0.85247  ...               4188.2456                8373.9278\n",
              "2    1.0  0.76686  ...               4148.9889                8298.1606\n",
              "3    1.0  0.85083  ...               4127.0967                8254.7868\n",
              "4    0.0  0.41121  ...               3910.7029                7698.9389\n",
              "5    0.0  0.32790  ...               4297.4639                8645.2845\n",
              "\n",
              "[5 rows x 321 columns]"
            ]
          },
          "metadata": {
            "tags": []
          },
          "execution_count": 9
        }
      ]
    },
    {
      "cell_type": "code",
      "metadata": {
        "id": "uQ8SbaiTCRqP",
        "trusted": true
      },
      "source": [
        "\n",
        "train_df=pd_speech_features\n",
        "train_df_tqwt=pd_speech_features_no_tqwt\n",
        "\n",
        "y_train = train_df['class']\n",
        "y_train = np.array(y_train.values, dtype = 'int')\n",
        "x_train = train_df.drop(['class','id'], axis = 1) \n",
        "\n",
        "x_train = x_train.values\n",
        "#y_validation = validation_df['class']\n",
        "#y_validation = np.array(y_validation.values, dtype = 'int')\n",
        "#x_validation = validation_df.drop(['class'], axis = 1) "
      ],
      "execution_count": 10,
      "outputs": []
    },
    {
      "cell_type": "code",
      "metadata": {
        "trusted": true,
        "colab": {
          "base_uri": "https://localhost:8080/"
        },
        "id": "gOPAWkkDH6c6",
        "outputId": "591a3472-801f-4d39-8039-f85b08d45a3c"
      },
      "source": [
        "features=train_df.columns.values.tolist()\n",
        "features.remove('id')\n",
        "features.remove('class')\n",
        "print(len(features))"
      ],
      "execution_count": 11,
      "outputs": [
        {
          "output_type": "stream",
          "text": [
            "753\n"
          ],
          "name": "stdout"
        }
      ]
    },
    {
      "cell_type": "code",
      "metadata": {
        "id": "QkotwMAfqW6W",
        "trusted": true,
        "colab": {
          "base_uri": "https://localhost:8080/"
        },
        "outputId": "0ad34e1d-8f7d-4bb1-aef1-22be146ba4fb"
      },
      "source": [
        "print(x_train.shape)\n",
        "print(y_train.shape)\n"
      ],
      "execution_count": 12,
      "outputs": [
        {
          "output_type": "stream",
          "text": [
            "(756, 753)\n",
            "(756,)\n"
          ],
          "name": "stdout"
        }
      ]
    },
    {
      "cell_type": "code",
      "metadata": {
        "trusted": true,
        "id": "c0m-1DfbH6c6"
      },
      "source": [
        "from sklearn.linear_model import LogisticRegression\n",
        "\n",
        "#from mlxtend.feature_selection import SequentialFeatureSelector\n",
        "\n",
        "#selector = SequentialFeatureSelector(LogisticRegression(), forward=True, scoring='neg_log_loss', \n",
        "                                   #  verbose=2, k_features=10, forward=False, n_jobs=-1)\n",
        "\n",
        "#selections=selector.fit(x_train, y_train)"
      ],
      "execution_count": 13,
      "outputs": []
    },
    {
      "cell_type": "code",
      "metadata": {
        "colab": {
          "base_uri": "https://localhost:8080/"
        },
        "id": "tteEg1QRItRm",
        "outputId": "5cf52e06-9fe5-49ab-e8b6-4b21ac1e987a"
      },
      "source": [
        "!pip install --upgrade scikit-learn"
      ],
      "execution_count": 14,
      "outputs": [
        {
          "output_type": "stream",
          "text": [
            "Requirement already up-to-date: scikit-learn in /usr/local/lib/python3.7/dist-packages (0.24.1)\n",
            "Requirement already satisfied, skipping upgrade: joblib>=0.11 in /usr/local/lib/python3.7/dist-packages (from scikit-learn) (1.0.1)\n",
            "Requirement already satisfied, skipping upgrade: threadpoolctl>=2.0.0 in /usr/local/lib/python3.7/dist-packages (from scikit-learn) (2.1.0)\n",
            "Requirement already satisfied, skipping upgrade: numpy>=1.13.3 in /usr/local/lib/python3.7/dist-packages (from scikit-learn) (1.19.5)\n",
            "Requirement already satisfied, skipping upgrade: scipy>=0.19.1 in /usr/local/lib/python3.7/dist-packages (from scikit-learn) (1.4.1)\n"
          ],
          "name": "stdout"
        }
      ]
    },
    {
      "cell_type": "code",
      "metadata": {
        "id": "xZgiEXM-XTxv",
        "trusted": true
      },
      "source": [
        "from sklearn.preprocessing import StandardScaler\n",
        "sc = StandardScaler()\n",
        "\n",
        "x_train= sc.fit_transform(x_train)"
      ],
      "execution_count": 15,
      "outputs": []
    },
    {
      "cell_type": "code",
      "metadata": {
        "trusted": true,
        "id": "5v1oVAU-H6c7"
      },
      "source": [
        "from sklearn.feature_selection import SequentialFeatureSelector\n",
        "sfs_9 = SequentialFeatureSelector(LogisticRegression(random_state=10),n_features_to_select=9, n_jobs=-1)\n",
        "\n",
        "sfs_9=sfs_9.fit(x_train, y_train)"
      ],
      "execution_count": 60,
      "outputs": []
    },
    {
      "cell_type": "code",
      "metadata": {
        "trusted": true,
        "colab": {
          "base_uri": "https://localhost:8080/"
        },
        "id": "gWZL5YClH6c9",
        "outputId": "57927496-a33f-49e9-cf60-d42fbc444fde"
      },
      "source": [
        "x_train_transformed_9_features=sfs_9.transform(x_train)\n",
        "x_train_transformed_9_features.shape"
      ],
      "execution_count": 179,
      "outputs": [
        {
          "output_type": "execute_result",
          "data": {
            "text/plain": [
              "(756, 9)"
            ]
          },
          "metadata": {
            "tags": []
          },
          "execution_count": 179
        }
      ]
    },
    {
      "cell_type": "code",
      "metadata": {
        "id": "y8mAR1Upprt0",
        "trusted": true
      },
      "source": [
        "y_train_tqwt = y_train #train_df_tqwt['class']\n",
        "#y_train_tqwt = np.array(y_train_tqwt.values, dtype = 'int')\n",
        "x_train_tqwt = train_df_tqwt.values \n",
        "\n",
        "#y_validation_tqwt = validation_df_tqwt['class']\n",
        "#y_validation_tqwt = np.array(y_validation_tqwt.values, dtype = 'int')\n",
        "#x_validation_tqwt = validation_df_tqwt.drop(['class'], axis = 1) "
      ],
      "execution_count": 180,
      "outputs": []
    },
    {
      "cell_type": "code",
      "metadata": {
        "id": "3gDIYR4Yq038",
        "trusted": true,
        "colab": {
          "base_uri": "https://localhost:8080/"
        },
        "outputId": "bc3689a9-5434-48c7-812d-b695ec9c279e"
      },
      "source": [
        "print(x_train_tqwt.shape)\n",
        "print(y_train_tqwt.shape)"
      ],
      "execution_count": 181,
      "outputs": [
        {
          "output_type": "stream",
          "text": [
            "(756, 321)\n",
            "(756,)\n"
          ],
          "name": "stdout"
        }
      ]
    },
    {
      "cell_type": "markdown",
      "metadata": {
        "id": "pDAckMKBrusK"
      },
      "source": [
        "Note: If we remove all the outlier in all the columns, one could end up with a dataset which is too small in order to predict anything."
      ]
    },
    {
      "cell_type": "markdown",
      "metadata": {
        "id": "bIgtx3FbTc4t"
      },
      "source": [
        "# LSTM"
      ]
    },
    {
      "cell_type": "code",
      "metadata": {
        "id": "lPtdGmwVmeEI",
        "trusted": true
      },
      "source": [
        "import keras\n",
        "from keras.preprocessing import sequence\n",
        "import tensorflow as tf\n",
        "from keras.models import Sequential\n",
        "from keras.layers import Dense\n",
        "from keras.layers import LSTM\n",
        "from keras.layers import Dropout\n",
        "from keras.layers import BatchNormalization\n",
        "from keras.optimizers import Adam\n",
        "from keras.models import load_model\n",
        "from keras import regularizers\n",
        "from keras.callbacks import ModelCheckpoint\n",
        "from sklearn.model_selection import LeaveOneOut, KFold\n",
        "from sklearn.metrics import accuracy_score, f1_score, classification_report"
      ],
      "execution_count": 182,
      "outputs": []
    },
    {
      "cell_type": "code",
      "metadata": {
        "id": "VOlnHs_wprt5",
        "trusted": true
      },
      "source": [
        "k_fold=KFold(10,True,10)"
      ],
      "execution_count": 183,
      "outputs": []
    },
    {
      "cell_type": "code",
      "metadata": {
        "id": "1McWKloGrusQ",
        "trusted": true
      },
      "source": [
        "from sklearn import svm \n",
        "from sklearn.model_selection import cross_val_score, GridSearchCV\n",
        "from sklearn.metrics import classification_report\n",
        "\n",
        "\n",
        "param_grid = {'C': [0.1, 1, 10, 100, 1000],  \n",
        "              'gamma': [1, 0.1, 0.01, 0.001, 0.0001], \n",
        "              'kernel': ['rbf']}  "
      ],
      "execution_count": 184,
      "outputs": []
    },
    {
      "cell_type": "code",
      "metadata": {
        "trusted": true,
        "id": "eXuxV9-3H6c_"
      },
      "source": [
        "import torch.nn as nn\n",
        "import torch\n",
        "import torch.nn.functional as F"
      ],
      "execution_count": 185,
      "outputs": []
    },
    {
      "cell_type": "code",
      "metadata": {
        "trusted": true,
        "id": "Glj55X8yH6c_"
      },
      "source": [
        "m=nn.Sequential(nn.Linear(18,18), nn.ReLU(),nn.Linear(18,18),nn.ReLU())\n",
        "\n",
        "class Model(nn.Module):\n",
        "    def __init__(self):\n",
        "        super().__init__()\n",
        "        self.l1=nn.Linear(9,18)\n",
        "        self.l2=nn.Linear(18,18)\n",
        "        self.l3=nn.Linear(18,18)\n",
        "        self.l2=m\n",
        "        self.l4=nn.Linear(18,1)\n",
        "        \n",
        "    def forward(self,x):\n",
        "        x=self.l1(x)\n",
        "        x=F.relu(F.dropout(x,0.200))\n",
        "        x1=self.l2(x)\n",
        "        x2=F.relu(F.dropout(x,0.20))\n",
        "        x=self.l3(x)\n",
        "        x=self.l2((x+x1)/2.00)\n",
        "        x=F.relu(F.dropout(x,.200))\n",
        "        x3=self.l2((x))\n",
        "        x=self.l3(x)\n",
        "        x=F.relu(F.dropout((x+x1)/2.0,0.000))\n",
        "        x=self.l4(x)\n",
        "        \n",
        "        return x\n",
        "        \n"
      ],
      "execution_count": 311,
      "outputs": []
    },
    {
      "cell_type": "code",
      "metadata": {
        "trusted": true,
        "id": "nvc3U-pUH6c_"
      },
      "source": [
        "#model=lstm_model#Model()\n",
        "#model=model\n",
        "model=Model()\n",
        "criterion = nn.BCEWithLogitsLoss()\n",
        "optim=torch.optim.SGD(model.parameters(),lr=0.006,momentum=0.99, nesterov=False)"
      ],
      "execution_count": 312,
      "outputs": []
    },
    {
      "cell_type": "code",
      "metadata": {
        "trusted": true,
        "colab": {
          "base_uri": "https://localhost:8080/"
        },
        "id": "aGkB3k10H6c_",
        "outputId": "6d0ba94c-cc6e-4cd0-f1be-54f930f81ab5"
      },
      "source": [
        "x=torch.from_numpy(x_train_transformed_9_features[:600]).float()\n",
        "#x=torch.from_numpy(x_train[:600]).float()\n",
        "y=torch.from_numpy(y_train[:600]).float()\n",
        "\n",
        "def train(model,x,y):\n",
        "    \n",
        "    losses=[]\n",
        "    \n",
        "    for i in range(1000):\n",
        "        output=model(x)\n",
        "        loss=criterion(output.view(y.shape[0]),y)\n",
        "    \n",
        "        losses.append(loss)\n",
        "    \n",
        "        #if (i%100==0):\n",
        "         #   print(i,' ',loss.item())\n",
        "    \n",
        "        optim.zero_grad()\n",
        "        loss.backward()\n",
        "        optim.step()\n",
        "    \n",
        "    # training accuracy\n",
        "    with torch.no_grad():\n",
        "        preds=torch.sigmoid(model(x)).round()\n",
        "        print('\\ntraining report: \\n',classification_report(preds.view(preds.shape[0]),y))\n",
        "        \n",
        "    return model, losses\n",
        "\n",
        "model, losses= train(model,x,y)"
      ],
      "execution_count": 313,
      "outputs": [
        {
          "output_type": "stream",
          "text": [
            "\n",
            "training report: \n",
            "               precision    recall  f1-score   support\n",
            "\n",
            "         0.0       0.55      0.93      0.69        83\n",
            "         1.0       0.99      0.88      0.93       517\n",
            "\n",
            "    accuracy                           0.88       600\n",
            "   macro avg       0.77      0.90      0.81       600\n",
            "weighted avg       0.93      0.88      0.89       600\n",
            "\n"
          ],
          "name": "stdout"
        }
      ]
    },
    {
      "cell_type": "code",
      "metadata": {
        "trusted": true,
        "colab": {
          "base_uri": "https://localhost:8080/",
          "height": 265
        },
        "id": "9Ge8Up3dH6dA",
        "outputId": "808bffc0-9583-48a2-f36b-360256dc73a3"
      },
      "source": [
        "%matplotlib inline\n",
        "plt.plot(losses)\n",
        "plt.show()"
      ],
      "execution_count": 314,
      "outputs": [
        {
          "output_type": "display_data",
          "data": {
            "image/png": "[encoded data removed]",
            "text/plain": [
              "<Figure size 432x288 with 1 Axes>"
            ]
          },
          "metadata": {
            "tags": [],
            "needs_background": "light"
          }
        }
      ]
    },
    {
      "cell_type": "code",
      "metadata": {
        "trusted": true,
        "id": "5Za9Fg9eH6dA"
      },
      "source": [
        "def test(model, tstx, tsty):\n",
        "    with torch.no_grad():\n",
        "    \n",
        "        preds=torch.sigmoid(model(tstx)).round()\n",
        "        print('testing report:')\n",
        "        print(classification_report(preds.view(preds.shape[0]), tsty))\n",
        "    \n",
        "    \n",
        "    \n",
        "        print(torch.sigmoid(preds).round().shape)"
      ],
      "execution_count": 315,
      "outputs": []
    },
    {
      "cell_type": "code",
      "metadata": {
        "trusted": true,
        "colab": {
          "base_uri": "https://localhost:8080/"
        },
        "id": "K-GCeSQGH6dA",
        "outputId": "3040e889-8f24-4e92-8181-208d08c018ef"
      },
      "source": [
        "tstx=torch.from_numpy(x_train_transformed_9_features[600:]).float()\n",
        "#tstx=torch.from_numpy(x_train[600:]).float()\n",
        "tsty=torch.from_numpy(y_train[600:]).float()\n",
        "\n",
        "test(model,tstx,tsty)"
      ],
      "execution_count": 316,
      "outputs": [
        {
          "output_type": "stream",
          "text": [
            "testing report:\n",
            "              precision    recall  f1-score   support\n",
            "\n",
            "         0.0       0.35      0.75      0.48        24\n",
            "         1.0       0.94      0.75      0.84       132\n",
            "\n",
            "    accuracy                           0.75       156\n",
            "   macro avg       0.65      0.75      0.66       156\n",
            "weighted avg       0.85      0.75      0.78       156\n",
            "\n",
            "torch.Size([156, 1])\n"
          ],
          "name": "stdout"
        }
      ]
    },
    {
      "cell_type": "code",
      "metadata": {
        "trusted": true,
        "colab": {
          "base_uri": "https://localhost:8080/"
        },
        "id": "FPErmU27H6dB",
        "outputId": "182731c3-acdd-45f3-a2ca-03301c6164ae"
      },
      "source": [
        "x_train.shape"
      ],
      "execution_count": 317,
      "outputs": [
        {
          "output_type": "execute_result",
          "data": {
            "text/plain": [
              "(756, 753)"
            ]
          },
          "metadata": {
            "tags": []
          },
          "execution_count": 317
        }
      ]
    },
    {
      "cell_type": "code",
      "metadata": {
        "trusted": true,
        "id": "PnfCcJo9H6dB"
      },
      "source": [
        "def run_network(model, trainx,trainy, testx, testy):\n",
        "    model=model\n",
        "    criterion = nn.BCEWithLogitsLoss()\n",
        "    optim=torch.optim.SGD(model.parameters(),lr=0.009,momentum=0.9, nesterov=True)\n",
        "    #optim=torch.optim.Adam(model.parameters(),lr=0.1)\n",
        "    model, losses= train(model,trainx, trainy)\n",
        "    test(model, testx, testy)\n",
        "    \n",
        "    return model, losses"
      ],
      "execution_count": 318,
      "outputs": []
    },
    {
      "cell_type": "code",
      "metadata": {
        "trusted": true,
        "colab": {
          "base_uri": "https://localhost:8080/"
        },
        "id": "8Hh_j13-H6dB",
        "outputId": "73d601fe-57df-4d71-b397-66796d11d561"
      },
      "source": [
        "fold=0\n",
        "losses=[[] for i in range(10)]\n",
        "\n",
        "for trids, tstids in k_fold.split(x_train_transformed_9_features):\n",
        "    trainx, testx=x_train_transformed_9_features[trids,:], x_train_transformed_9_features[tstids,:]\n",
        "    #trainx, testx=x_train[trids,:], x_train[tstids,:]\n",
        "    trainy, testy=y_train[trids], y_train[tstids]\n",
        "    \n",
        "    trainx=torch.from_numpy(trainx).float()\n",
        "    trainy=torch.from_numpy(trainy).float()\n",
        "    testx=torch.from_numpy(testx).float()\n",
        "    testy=torch.from_numpy(testy).float()\n",
        "    \n",
        "    print('fold: ',fold)\n",
        "    \n",
        "    model=Model()\n",
        "    \n",
        "    _,losses[fold]=run_network(model, trainx,trainy, testx,testy)\n",
        "    \n",
        "    fold=fold+1\n",
        "\n",
        "\n"
      ],
      "execution_count": 319,
      "outputs": [
        {
          "output_type": "stream",
          "text": [
            "fold:  0\n",
            "\n",
            "training report: \n",
            "               precision    recall  f1-score   support\n",
            "\n",
            "         0.0       0.46      0.80      0.58       103\n",
            "         1.0       0.96      0.83      0.89       577\n",
            "\n",
            "    accuracy                           0.83       680\n",
            "   macro avg       0.71      0.81      0.74       680\n",
            "weighted avg       0.88      0.83      0.84       680\n",
            "\n",
            "testing report:\n",
            "              precision    recall  f1-score   support\n",
            "\n",
            "         0.0       0.36      0.71      0.48         7\n",
            "         1.0       0.97      0.87      0.92        69\n",
            "\n",
            "    accuracy                           0.86        76\n",
            "   macro avg       0.66      0.79      0.70        76\n",
            "weighted avg       0.91      0.86      0.88        76\n",
            "\n",
            "torch.Size([76, 1])\n",
            "fold:  1\n",
            "\n",
            "training report: \n",
            "               precision    recall  f1-score   support\n",
            "\n",
            "         0.0       0.42      0.78      0.55        92\n",
            "         1.0       0.96      0.83      0.89       588\n",
            "\n",
            "    accuracy                           0.82       680\n",
            "   macro avg       0.69      0.81      0.72       680\n",
            "weighted avg       0.89      0.82      0.84       680\n",
            "\n",
            "testing report:\n",
            "              precision    recall  f1-score   support\n",
            "\n",
            "         0.0       0.25      0.56      0.34         9\n",
            "         1.0       0.93      0.78      0.85        67\n",
            "\n",
            "    accuracy                           0.75        76\n",
            "   macro avg       0.59      0.67      0.60        76\n",
            "weighted avg       0.85      0.75      0.79        76\n",
            "\n",
            "torch.Size([76, 1])\n",
            "fold:  2\n",
            "\n",
            "training report: \n",
            "               precision    recall  f1-score   support\n",
            "\n",
            "         0.0       0.39      0.77      0.51        87\n",
            "         1.0       0.96      0.82      0.88       593\n",
            "\n",
            "    accuracy                           0.81       680\n",
            "   macro avg       0.67      0.79      0.70       680\n",
            "weighted avg       0.89      0.81      0.84       680\n",
            "\n",
            "testing report:\n",
            "              precision    recall  f1-score   support\n",
            "\n",
            "         0.0       0.39      0.58      0.47        12\n",
            "         1.0       0.91      0.83      0.87        64\n",
            "\n",
            "    accuracy                           0.79        76\n",
            "   macro avg       0.65      0.71      0.67        76\n",
            "weighted avg       0.83      0.79      0.81        76\n",
            "\n",
            "torch.Size([76, 1])\n",
            "fold:  3\n",
            "\n",
            "training report: \n",
            "               precision    recall  f1-score   support\n",
            "\n",
            "         0.0       0.46      0.75      0.57       106\n",
            "         1.0       0.95      0.84      0.89       574\n",
            "\n",
            "    accuracy                           0.82       680\n",
            "   macro avg       0.70      0.80      0.73       680\n",
            "weighted avg       0.87      0.82      0.84       680\n",
            "\n",
            "testing report:\n",
            "              precision    recall  f1-score   support\n",
            "\n",
            "         0.0       0.44      0.73      0.55        11\n",
            "         1.0       0.95      0.85      0.89        65\n",
            "\n",
            "    accuracy                           0.83        76\n",
            "   macro avg       0.70      0.79      0.72        76\n",
            "weighted avg       0.88      0.83      0.84        76\n",
            "\n",
            "torch.Size([76, 1])\n",
            "fold:  4\n",
            "\n",
            "training report: \n",
            "               precision    recall  f1-score   support\n",
            "\n",
            "         0.0       0.36      0.76      0.48        83\n",
            "         1.0       0.96      0.81      0.88       597\n",
            "\n",
            "    accuracy                           0.80       680\n",
            "   macro avg       0.66      0.78      0.68       680\n",
            "weighted avg       0.89      0.80      0.83       680\n",
            "\n",
            "testing report:\n",
            "              precision    recall  f1-score   support\n",
            "\n",
            "         0.0       0.33      0.71      0.45         7\n",
            "         1.0       0.97      0.86      0.91        69\n",
            "\n",
            "    accuracy                           0.84        76\n",
            "   macro avg       0.65      0.78      0.68        76\n",
            "weighted avg       0.91      0.84      0.87        76\n",
            "\n",
            "torch.Size([76, 1])\n",
            "fold:  5\n",
            "\n",
            "training report: \n",
            "               precision    recall  f1-score   support\n",
            "\n",
            "         0.0       0.41      0.73      0.52        96\n",
            "         1.0       0.95      0.83      0.88       584\n",
            "\n",
            "    accuracy                           0.81       680\n",
            "   macro avg       0.68      0.78      0.70       680\n",
            "weighted avg       0.87      0.81      0.83       680\n",
            "\n",
            "testing report:\n",
            "              precision    recall  f1-score   support\n",
            "\n",
            "         0.0       0.38      0.89      0.53         9\n",
            "         1.0       0.98      0.81      0.89        67\n",
            "\n",
            "    accuracy                           0.82        76\n",
            "   macro avg       0.68      0.85      0.71        76\n",
            "weighted avg       0.91      0.82      0.84        76\n",
            "\n",
            "torch.Size([76, 1])\n",
            "fold:  6\n",
            "\n",
            "training report: \n",
            "               precision    recall  f1-score   support\n",
            "\n",
            "         0.0       0.37      0.86      0.52        72\n",
            "         1.0       0.98      0.83      0.90       609\n",
            "\n",
            "    accuracy                           0.83       681\n",
            "   macro avg       0.68      0.85      0.71       681\n",
            "weighted avg       0.92      0.83      0.86       681\n",
            "\n",
            "testing report:\n",
            "              precision    recall  f1-score   support\n",
            "\n",
            "         0.0       0.46      1.00      0.63        12\n",
            "         1.0       1.00      0.78      0.88        63\n",
            "\n",
            "    accuracy                           0.81        75\n",
            "   macro avg       0.73      0.89      0.75        75\n",
            "weighted avg       0.91      0.81      0.84        75\n",
            "\n",
            "torch.Size([75, 1])\n",
            "fold:  7\n",
            "\n",
            "training report: \n",
            "               precision    recall  f1-score   support\n",
            "\n",
            "         0.0       0.47      0.75      0.58       112\n",
            "         1.0       0.94      0.83      0.89       569\n",
            "\n",
            "    accuracy                           0.82       681\n",
            "   macro avg       0.71      0.79      0.73       681\n",
            "weighted avg       0.87      0.82      0.84       681\n",
            "\n",
            "testing report:\n",
            "              precision    recall  f1-score   support\n",
            "\n",
            "         0.0       0.36      0.83      0.50         6\n",
            "         1.0       0.98      0.87      0.92        69\n",
            "\n",
            "    accuracy                           0.87        75\n",
            "   macro avg       0.67      0.85      0.71        75\n",
            "weighted avg       0.93      0.87      0.89        75\n",
            "\n",
            "torch.Size([75, 1])\n",
            "fold:  8\n",
            "\n",
            "training report: \n",
            "               precision    recall  f1-score   support\n",
            "\n",
            "         0.0       0.34      0.66      0.45        89\n",
            "         1.0       0.94      0.81      0.87       592\n",
            "\n",
            "    accuracy                           0.79       681\n",
            "   macro avg       0.64      0.74      0.66       681\n",
            "weighted avg       0.86      0.79      0.81       681\n",
            "\n",
            "testing report:\n",
            "              precision    recall  f1-score   support\n",
            "\n",
            "         0.0       0.37      0.64      0.47        11\n",
            "         1.0       0.93      0.81      0.87        64\n",
            "\n",
            "    accuracy                           0.79        75\n",
            "   macro avg       0.65      0.72      0.67        75\n",
            "weighted avg       0.85      0.79      0.81        75\n",
            "\n",
            "torch.Size([75, 1])\n",
            "fold:  9\n",
            "\n",
            "training report: \n",
            "               precision    recall  f1-score   support\n",
            "\n",
            "         0.0       0.38      0.85      0.52        73\n",
            "         1.0       0.98      0.83      0.90       608\n",
            "\n",
            "    accuracy                           0.83       681\n",
            "   macro avg       0.68      0.84      0.71       681\n",
            "weighted avg       0.91      0.83      0.86       681\n",
            "\n",
            "testing report:\n",
            "              precision    recall  f1-score   support\n",
            "\n",
            "         0.0       0.52      0.93      0.67        15\n",
            "         1.0       0.98      0.78      0.87        60\n",
            "\n",
            "    accuracy                           0.81        75\n",
            "   macro avg       0.75      0.86      0.77        75\n",
            "weighted avg       0.89      0.81      0.83        75\n",
            "\n",
            "torch.Size([75, 1])\n"
          ],
          "name": "stdout"
        }
      ]
    },
    {
      "cell_type": "code",
      "metadata": {
        "trusted": true,
        "id": "hEj4rX9xH6dC"
      },
      "source": [
        ""
      ],
      "execution_count": 319,
      "outputs": []
    },
    {
      "cell_type": "code",
      "metadata": {
        "trusted": true,
        "colab": {
          "base_uri": "https://localhost:8080/",
          "height": 298
        },
        "id": "yImmOUVaH6dC",
        "outputId": "edd39d5d-830e-4da7-e9ca-b2377199bd71"
      },
      "source": [
        "for i in range(10):\n",
        "  plt.plot(losses[i])\n",
        "plt.title('losses')\n",
        "plt.ylim(0.2,1)"
      ],
      "execution_count": 320,
      "outputs": [
        {
          "output_type": "execute_result",
          "data": {
            "text/plain": [
              "(0.2, 1.0)"
            ]
          },
          "metadata": {
            "tags": []
          },
          "execution_count": 320
        },
        {
          "output_type": "display_data",
          "data": {
            "image/png": "[encoded data removed]",
            "text/plain": [
              "<Figure size 432x288 with 1 Axes>"
            ]
          },
          "metadata": {
            "tags": [],
            "needs_background": "light"
          }
        }
      ]
    },
    {
      "cell_type": "code",
      "metadata": {
        "trusted": true,
        "id": "Muup2X94H6dC"
      },
      "source": [
        ""
      ],
      "execution_count": 287,
      "outputs": []
    }
  ]
}